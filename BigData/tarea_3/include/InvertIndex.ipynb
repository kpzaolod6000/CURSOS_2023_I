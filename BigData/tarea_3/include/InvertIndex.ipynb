{
 "cells": [
  {
   "cell_type": "code",
   "execution_count": 1,
   "metadata": {},
   "outputs": [],
   "source": [
    "import glob"
   ]
  },
  {
   "cell_type": "code",
   "execution_count": 2,
   "metadata": {},
   "outputs": [],
   "source": [
    "def read_text_files(folder_path):\n",
    "    file_paths = glob.glob(folder_path + '/*.txt')\n",
    "    texts = []\n",
    "    for file_path in file_paths:\n",
    "        with open(file_path, 'r', encoding='utf-8') as file:\n",
    "            text = file.read()\n",
    "            texts.append(text)\n",
    "    return texts\n"
   ]
  },
  {
   "cell_type": "code",
   "execution_count": 6,
   "metadata": {},
   "outputs": [],
   "source": [
    "\n",
    "gutenberg_folder_path = '/home/judal/Documentos/CURSOS_2023_I/BigData/tarea_3/DATA/devdata'\n",
    "# gutenberg_folder_path = '/home/judal/Documentos/CURSOS_2023_I/BigData/tarea_1/Gutenberg_Text'\n",
    "texts = read_text_files(gutenberg_folder_path)"
   ]
  },
  {
   "cell_type": "code",
   "execution_count": 8,
   "metadata": {},
   "outputs": [
    {
     "data": {
      "text/plain": [
       "\"5722018301\\tKevin, take a look at today's (Saturday's) emerging conservative blogosphere meme (at least Volokh and Instapundit) - they're essentially passing on as fact the possibility that impeached f\""
      ]
     },
     "execution_count": 8,
     "metadata": {},
     "output_type": "execute_result"
    }
   ],
   "source": [
    "texts[0][:200]"
   ]
  },
  {
   "cell_type": "code",
   "execution_count": 10,
   "metadata": {},
   "outputs": [
    {
     "name": "stdout",
     "output_type": "stream",
     "text": [
      "['5722018301', '5722018235', '5722018496', '5722018508', '5722018101']\n"
     ]
    }
   ],
   "source": [
    "__dict__ = {}\n",
    "\n",
    "for text in texts:\n",
    "    datos = text.split(\"\\t\", 1)\n",
    "    clave = datos[0]\n",
    "    valor = datos[1]\n",
    "    __dict__[clave] = valor\n",
    "\n",
    "print(list(__dict__.keys()))"
   ]
  },
  {
   "cell_type": "code",
   "execution_count": 12,
   "metadata": {},
   "outputs": [],
   "source": [
    "def mapper(chunk):\n",
    "    word_count = {}\n",
    "    words = chunk.split()\n",
    "    for word in words:\n",
    "        if word not in word_count:\n",
    "            word_count[word] = 0\n",
    "        word_count[word] += 1\n",
    "    return word_count"
   ]
  },
  {
   "cell_type": "code",
   "execution_count": 15,
   "metadata": {},
   "outputs": [],
   "source": [
    "def mapreduce(data, mapper):\n",
    "    word_counts = []\n",
    "\n",
    "    for key, value in data.items():\n",
    "        word_count = mapper(value)\n",
    "        word_counts.append(word_count)\n",
    "        \n",
    "    return word_counts"
   ]
  },
  {
   "cell_type": "code",
   "execution_count": 16,
   "metadata": {},
   "outputs": [],
   "source": [
    "word_counts = mapreduce(__dict__,mapper)"
   ]
  },
  {
   "cell_type": "code",
   "execution_count": 18,
   "metadata": {},
   "outputs": [
    {
     "data": {
      "text/plain": [
       "[('Kevin,', 289),\n",
       " ('take', 4834),\n",
       " ('a', 128954),\n",
       " ('look', 2432),\n",
       " ('at', 20671),\n",
       " (\"today's\", 315),\n",
       " (\"(Saturday's)\", 1),\n",
       " ('emerging', 78),\n",
       " ('conservative', 1799),\n",
       " ('blogosphere', 181),\n",
       " ('meme', 114),\n",
       " ('(at', 192),\n",
       " ('least', 3077),\n",
       " ('Volokh', 9),\n",
       " ('and', 142243),\n",
       " ('Instapundit)', 2),\n",
       " ('-', 7936),\n",
       " (\"they're\", 2379),\n",
       " ('essentially', 432),\n",
       " ('passing', 231),\n",
       " ('on', 37870),\n",
       " ('as', 37837),\n",
       " ('fact', 3939),\n",
       " ('the', 322983),\n",
       " ('possibility', 406),\n",
       " ('that', 102999),\n",
       " ('impeached', 57),\n",
       " ('federal', 1053),\n",
       " ('judge', 298),\n",
       " ('Alcee', 11),\n",
       " ('Hastings', 6),\n",
       " ('could', 7967),\n",
       " ('become', 1853),\n",
       " ('chair', 77),\n",
       " ('of', 164341),\n",
       " ('Intelligence', 165),\n",
       " ('Committee', 151),\n",
       " ('in', 94799),\n",
       " ('Democratic', 2614),\n",
       " (\"House.I'm\", 1),\n",
       " ('extremely', 586),\n",
       " ('dubious', 74),\n",
       " ('would', 22647),\n",
       " ('happen.', 184),\n",
       " ('The', 18842),\n",
       " ('Washington', 714),\n",
       " ('Post', 198),\n",
       " ('article', 811),\n",
       " ('links,', 14),\n",
       " ('which', 11821),\n",
       " ('reports', 401),\n",
       " ('potential', 649),\n",
       " ('minority', 505),\n",
       " ('committee', 212),\n",
       " ('chairs', 28),\n",
       " ('under', 3207),\n",
       " ('Democrats,', 286),\n",
       " ('indicates', 134),\n",
       " ('some', 11036),\n",
       " ('are', 43637),\n",
       " ('sure', 2476),\n",
       " ('things', 3419),\n",
       " ('(Rangel', 1),\n",
       " ('Ways', 6),\n",
       " ('Means,', 1),\n",
       " ('for', 53687),\n",
       " ('example)', 40),\n",
       " ('but', 23924),\n",
       " ('is', 90330),\n",
       " ('far', 3215),\n",
       " ('from', 20705),\n",
       " ('sure.Kevin', 1),\n",
       " ('makes', 2571),\n",
       " ('mature', 71),\n",
       " ('accurate', 298),\n",
       " ('point', 4210),\n",
       " ('Cleland.', 3),\n",
       " ('Why', 1192),\n",
       " ('do', 14938),\n",
       " ('democrats', 306),\n",
       " ('continuously', 44),\n",
       " ('whine', 84),\n",
       " ('when', 11026),\n",
       " ('their', 24530),\n",
       " ('supposed', 909),\n",
       " ('heros', 11),\n",
       " ('attacked', 379),\n",
       " ('policy?', 24),\n",
       " ('As', 2302),\n",
       " ('Kevin', 1274),\n",
       " ('said,', 796),\n",
       " ('what', 15569),\n",
       " ('did', 4922),\n",
       " (\"Cleland's\", 1),\n",
       " ('amputee', 2),\n",
       " ('status', 548),\n",
       " ('have', 41189),\n",
       " ('to', 183444),\n",
       " ('with', 36915),\n",
       " ('attack', 1513)]"
      ]
     },
     "execution_count": 18,
     "metadata": {},
     "output_type": "execute_result"
    }
   ],
   "source": [
    "list(word_counts[0].items())[:100]"
   ]
  },
  {
   "cell_type": "code",
   "execution_count": 19,
   "metadata": {},
   "outputs": [],
   "source": [
    "word_search = \"passing\""
   ]
  },
  {
   "cell_type": "code",
   "execution_count": 20,
   "metadata": {},
   "outputs": [],
   "source": [
    "list_key = list(__dict__.keys())"
   ]
  },
  {
   "cell_type": "code",
   "execution_count": 21,
   "metadata": {},
   "outputs": [
    {
     "name": "stdout",
     "output_type": "stream",
     "text": [
      "5722018301 :  231\n",
      "5722018235 :  249\n",
      "5722018496 :  77\n",
      "5722018508 :  203\n",
      "5722018101 :  268\n"
     ]
    }
   ],
   "source": [
    "for i in range(len(word_counts)):\n",
    "    print(list_key[i],': ',word_counts[i][word_search])\n",
    "    "
   ]
  },
  {
   "cell_type": "code",
   "execution_count": null,
   "metadata": {},
   "outputs": [],
   "source": []
  }
 ],
 "metadata": {
  "kernelspec": {
   "display_name": "tarea_3",
   "language": "python",
   "name": "python3"
  },
  "language_info": {
   "codemirror_mode": {
    "name": "ipython",
    "version": 3
   },
   "file_extension": ".py",
   "mimetype": "text/x-python",
   "name": "python",
   "nbconvert_exporter": "python",
   "pygments_lexer": "ipython3",
   "version": "3.10.6"
  },
  "orig_nbformat": 4
 },
 "nbformat": 4,
 "nbformat_minor": 2
}
