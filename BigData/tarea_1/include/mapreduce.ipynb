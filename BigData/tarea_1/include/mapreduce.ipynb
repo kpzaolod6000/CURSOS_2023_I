{
 "cells": [
  {
   "cell_type": "code",
   "execution_count": 8,
   "metadata": {},
   "outputs": [],
   "source": [
    "# Función Reduce\n",
    "def reduce_function(key, values):\n",
    "    # Implementa tu lógica de reduce aquí\n",
    "    word_count = sum(values)\n",
    "    result = (key, word_count)\n",
    "    \n",
    "    return result\n"
   ]
  },
  {
   "cell_type": "code",
   "execution_count": 3,
   "metadata": {},
   "outputs": [],
   "source": [
    "def map_function(record):\n",
    "    # Implementa tu lógica de map aquí\n",
    "    key = record[0]\n",
    "    value = record[1]\n",
    "    # Por ejemplo, extraer palabras de una oración\n",
    "    words = value.split()\n",
    "    mapped_values = [(word, 1) for word in words]\n",
    "    \n",
    "    return key, mapped_values"
   ]
  },
  {
   "cell_type": "code",
   "execution_count": 11,
   "metadata": {},
   "outputs": [],
   "source": [
    "\n",
    "def map_reduce(data):\n",
    "    # Paso 1: Función Map\n",
    "    # intermediate_result = defaultdict(list)\n",
    "    intermediate_result = {}\n",
    "\n",
    "    for record in data:\n",
    "        key, value = map_function(record)\n",
    "        intermediate_result[key] = value\n",
    "    print(intermediate_result)\n",
    "        \n",
    "    # Paso 2: Función Reduce\n",
    "    final_result = []\n",
    "    \n",
    "    for key, values in intermediate_result.items():\n",
    "        print(key)\n",
    "        print(values)\n",
    "        # result = reduce_function(key, values)\n",
    "        # final_result.append(result)\n",
    "    \n",
    "    return final_result"
   ]
  },
  {
   "cell_type": "code",
   "execution_count": 12,
   "metadata": {},
   "outputs": [
    {
     "name": "stdout",
     "output_type": "stream",
     "text": [
      "{'document1': [('Lorem', 1), ('ipsum', 1), ('dolor', 1), ('sit', 1), ('amet', 1)], 'document2': [('consectetur', 1), ('adipiscing', 1), ('elit', 1)], 'document3': [('sed', 1), ('do', 1), ('eiusmod', 1), ('tempor', 1), ('incididunt', 1), ('ut', 1), ('labore', 1), ('et', 1), ('dolore', 1), ('magna', 1), ('aliqua', 1)]}\n",
      "document1\n",
      "[('Lorem', 1), ('ipsum', 1), ('dolor', 1), ('sit', 1), ('amet', 1)]\n",
      "document2\n",
      "[('consectetur', 1), ('adipiscing', 1), ('elit', 1)]\n",
      "document3\n",
      "[('sed', 1), ('do', 1), ('eiusmod', 1), ('tempor', 1), ('incididunt', 1), ('ut', 1), ('labore', 1), ('et', 1), ('dolore', 1), ('magna', 1), ('aliqua', 1)]\n"
     ]
    }
   ],
   "source": [
    "data = [\n",
    "    (\"document1\", \"Lorem ipsum dolor sit amet\"),\n",
    "    (\"document2\", \"consectetur adipiscing elit\"),\n",
    "    (\"document3\", \"sed do eiusmod tempor incididunt ut labore et dolore magna aliqua\")\n",
    "]\n",
    "\n",
    "# Ejecutar MapReduce\n",
    "result = map_reduce(data)\n",
    "\n",
    "# Imprimir resultados\n",
    "for item in result:\n",
    "    print(item)\n"
   ]
  },
  {
   "cell_type": "code",
   "execution_count": null,
   "metadata": {},
   "outputs": [],
   "source": []
  },
  {
   "cell_type": "code",
   "execution_count": null,
   "metadata": {},
   "outputs": [],
   "source": []
  }
 ],
 "metadata": {
  "kernelspec": {
   "display_name": "tarea_1",
   "language": "python",
   "name": "python3"
  },
  "language_info": {
   "codemirror_mode": {
    "name": "ipython",
    "version": 3
   },
   "file_extension": ".py",
   "mimetype": "text/x-python",
   "name": "python",
   "nbconvert_exporter": "python",
   "pygments_lexer": "ipython3",
   "version": "3.10.6"
  },
  "orig_nbformat": 4,
  "vscode": {
   "interpreter": {
    "hash": "79446457b38c04c90f07992c0ccb4bcff9245834f25a7ea45abd02b5dd80da94"
   }
  }
 },
 "nbformat": 4,
 "nbformat_minor": 2
}
